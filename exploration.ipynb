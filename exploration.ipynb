{
 "cells": [
  {
   "cell_type": "code",
   "execution_count": 8,
   "metadata": {},
   "outputs": [],
   "source": [
    "import pandas as pd\n",
    "import json"
   ]
  },
  {
   "cell_type": "markdown",
   "metadata": {},
   "source": [
    "# Job Description"
   ]
  },
  {
   "cell_type": "code",
   "execution_count": 15,
   "metadata": {},
   "outputs": [
    {
     "data": {
      "text/plain": [
       "dict_keys(['_id', 'location', 'title', 'organisation', 'description', 'specific_skills', 'sector_skills'])"
      ]
     },
     "execution_count": 15,
     "metadata": {},
     "output_type": "execute_result"
    }
   ],
   "source": [
    "f = open('data/job_description_response.json')\n",
    "job_description = json.load(f)\n",
    "job_description[0].keys()"
   ]
  },
  {
   "cell_type": "code",
   "execution_count": 35,
   "metadata": {},
   "outputs": [
    {
     "data": {
      "text/plain": [
       "'AAAAAAAAA (AAAAAAAAAAAAAA, AAAAAAAAAAAAA, BELGIUM)'"
      ]
     },
     "execution_count": 35,
     "metadata": {},
     "output_type": "execute_result"
    }
   ],
   "source": [
    "job_description[0][\"location\"]"
   ]
  },
  {
   "cell_type": "code",
   "execution_count": 36,
   "metadata": {},
   "outputs": [
    {
     "data": {
      "text/plain": [
       "'Business Analyst Customer Service'"
      ]
     },
     "execution_count": 36,
     "metadata": {},
     "output_type": "execute_result"
    }
   ],
   "source": [
    "job_description[0][\"title\"]"
   ]
  },
  {
   "cell_type": "code",
   "execution_count": 37,
   "metadata": {},
   "outputs": [
    {
     "data": {
      "text/plain": [
       "'AAAAAAAAAAAAAA'"
      ]
     },
     "execution_count": 37,
     "metadata": {},
     "output_type": "execute_result"
    }
   ],
   "source": [
    "job_description[0][\"organisation\"]"
   ]
  },
  {
   "cell_type": "code",
   "execution_count": 38,
   "metadata": {},
   "outputs": [
    {
     "data": {
      "text/plain": [
       "'The two former companies AAAAAAA and AAAAAAA have merged their processes and software for AAAAAAAA into 1 process in 1 AAAAAAA system. In order to optimize our systems and implement a number of requested legal changes, we are looking for an analyst to lead and support the Premiums project that has been set up. Together with the project leader and fellow analysts, you ensure a successful implementation of these projects.\\nAs a functional analyst, you ensure high-quality and coherent processes by analyzing new and changed processes, initiating proposals for adaptation and by optimizing in the context of an integration of these processes in the existing process structure\\no Together with business and ICT you make an analysis of the proposed improvements and new needs.\\no Write out use cases and discuss them with users and ICT. These use cases are the basis for ICT developments, extending UAT testing and drawing up training and user manuals\\no Supervising testing and testing yourself\\no Providing training or supporting trainers\\no Training key users for further maintenance and testing of the S4Hana system\\no Developing processes and drawing up process documentation in collaboration with business and ICT'"
      ]
     },
     "execution_count": 38,
     "metadata": {},
     "output_type": "execute_result"
    }
   ],
   "source": [
    "job_description[0][\"description\"]"
   ]
  },
  {
   "cell_type": "code",
   "execution_count": 39,
   "metadata": {},
   "outputs": [
    {
     "data": {
      "text/plain": [
       "[{'title': 'Demonstrated experience within the Belgian energy sector',\n",
       "  'weigth': 'Should have'},\n",
       " {'title': 'Demonstrated experience with writing processes and instructions',\n",
       "  'weigth': 'Should have'},\n",
       " {'title': 'Demonstrated experience with SAP', 'weigth': 'Should have'},\n",
       " {'title': 'Demonstrated experience in training end users',\n",
       "  'weigth': 'Nice to have'},\n",
       " {'title': 'Candidate adds a document showing demonstrable experience working on large, complex projects',\n",
       "  'weigth': 'Nice to have'}]"
      ]
     },
     "execution_count": 39,
     "metadata": {},
     "output_type": "execute_result"
    }
   ],
   "source": [
    "job_description[0][\"specific_skills\"]"
   ]
  },
  {
   "cell_type": "code",
   "execution_count": 40,
   "metadata": {},
   "outputs": [
    {
     "data": {
      "text/plain": [
       "[{'title': 'Demonstrated experience as a business analyst in a similar environment.',\n",
       "  'weigth': 'Must have'},\n",
       " {'title': 'Demonstrated experience with business process development and optimization (BPM)',\n",
       "  'weigth': 'Must have'},\n",
       " {'title': 'Demonstrated experience with stakeholder management',\n",
       "  'weigth': 'Must have'}]"
      ]
     },
     "execution_count": 40,
     "metadata": {},
     "output_type": "execute_result"
    }
   ],
   "source": [
    "job_description[0][\"sector_skills\"]"
   ]
  },
  {
   "cell_type": "markdown",
   "metadata": {},
   "source": [
    "# Resumes"
   ]
  },
  {
   "cell_type": "code",
   "execution_count": 30,
   "metadata": {},
   "outputs": [
    {
     "name": "stdout",
     "output_type": "stream",
     "text": [
      "<class 'pandas.core.frame.DataFrame'>\n",
      "RangeIndex: 32 entries, 0 to 31\n",
      "Data columns (total 2 columns):\n",
      " #   Column        Non-Null Count  Dtype \n",
      "---  ------        --------------  ----- \n",
      " 0   id            32 non-null     object\n",
      " 1    resume_text  32 non-null     object\n",
      "dtypes: object(2)\n",
      "memory usage: 640.0+ bytes\n"
     ]
    }
   ],
   "source": [
    "cvs = pd.read_csv(\"data/resumes.csv\")\n",
    "cvs.info()"
   ]
  },
  {
   "cell_type": "code",
   "execution_count": 33,
   "metadata": {},
   "outputs": [],
   "source": [
    "cvs.rename(columns={\" resume_text\": \"resume_text\"}, inplace=True)"
   ]
  },
  {
   "cell_type": "code",
   "execution_count": 45,
   "metadata": {},
   "outputs": [
    {
     "data": {
      "text/html": [
       "<div>\n",
       "<style scoped>\n",
       "    .dataframe tbody tr th:only-of-type {\n",
       "        vertical-align: middle;\n",
       "    }\n",
       "\n",
       "    .dataframe tbody tr th {\n",
       "        vertical-align: top;\n",
       "    }\n",
       "\n",
       "    .dataframe thead th {\n",
       "        text-align: right;\n",
       "    }\n",
       "</style>\n",
       "<table border=\"1\" class=\"dataframe\">\n",
       "  <thead>\n",
       "    <tr style=\"text-align: right;\">\n",
       "      <th></th>\n",
       "      <th>id</th>\n",
       "      <th>resume_text</th>\n",
       "    </tr>\n",
       "  </thead>\n",
       "  <tbody>\n",
       "    <tr>\n",
       "      <th>0</th>\n",
       "      <td>socrates</td>\n",
       "      <td>Contact AAAAAAAAAAAAAA 46 AAAAAAAAAAAAAA AAAA...</td>\n",
       "    </tr>\n",
       "    <tr>\n",
       "      <th>1</th>\n",
       "      <td>pythagoras</td>\n",
       "      <td>Contact AAAAAAAAAAAAAAA Mobile AAAAAAAAAAAAAA...</td>\n",
       "    </tr>\n",
       "    <tr>\n",
       "      <th>2</th>\n",
       "      <td>heraclitus</td>\n",
       "      <td>Contactgegevens AAAAAAAAAAAAAAAAAAAA wwwlinke...</td>\n",
       "    </tr>\n",
       "  </tbody>\n",
       "</table>\n",
       "</div>"
      ],
      "text/plain": [
       "           id                                        resume_text\n",
       "0    socrates   Contact AAAAAAAAAAAAAA 46 AAAAAAAAAAAAAA AAAA...\n",
       "1  pythagoras   Contact AAAAAAAAAAAAAAA Mobile AAAAAAAAAAAAAA...\n",
       "2  heraclitus   Contactgegevens AAAAAAAAAAAAAAAAAAAA wwwlinke..."
      ]
     },
     "execution_count": 45,
     "metadata": {},
     "output_type": "execute_result"
    }
   ],
   "source": [
    "cvs.head(3)"
   ]
  },
  {
   "cell_type": "code",
   "execution_count": 46,
   "metadata": {},
   "outputs": [
    {
     "data": {
      "text/plain": [
       "' AAAAAAAAAAAAAAA AAAAAAAAAAAAAAAAAAAAAAAAAAAAAAAAAAAAA AAAAAAAAAAAAA AAAAAAAAAAAAAAAA Belgian born on September the 15th 1975 in AAAAAA Driving Licencse A owning a car IT Business and Functional Analyst – AAA and BI Technical Expertise – Software Development Project management software’s Microsoft Project 2010 and Microsoft Visio 2010 Customizing of AAA R3 and IS RetailIs Media Logistics modules AAA ECC60 MMSD Database and query language SQL23 T SQL on SQL Server 2012 MySQL51 Databases connectors and data access ADOnet Linq introduction to SharePoint 2013 Programming languages Object Oriented C C 40 under Net framework 40 learning Java 8 Pr ogramming languages – Web Oriented ASP net – MVC4 PHP5 JavaScript Ajax Application s and web presentatio n WPF – Win Forms Web Forms HTML5 and CSS3 Process Model ing and project development methodologies UML 2 0 BPMN 20 RUP Agile Scrum and XP Prince2 Intro duction to PMBOK and ITILV3 Language proficiency French Mother tongue Dutsch Good writt en and spoken knowledge AAAAAAAA ELAO examination score B2 English Good written and spoken knowledge AAAAAAAA ELAO examination score B2 Studies and professional trainings 2014 2015 « Business Intelligence with MS SQL Server 2012 DataM ining with R » Technofutur TIC June 2013 « IT Project Management » Professional Training Technofutur TIC 2012 2013 « ICTTechnical Business Analyst » Formatic Cefora Technifutur ® Talenteo 2002 2003 « Consultant Junior AAA R3 » Professional training AAAAAAA Learning Valley Customising of AAA modules AAA FI AAAAAA introduction to AAAA 4 2015 2017 Bachelor in « Management Information Systems » 2nd year at AAAAAAA 2015 2016 Post Bachelor degree in « Accounting and Fiscal Expertize » at AAAAAAA 2002 2003 Master in informatics and Human Sciences – Autonomous student year at AAAAAAAAAAAA 2001 2002 University 3rd cycle in Specialized Studies degree in Telematics at AAAAAAAAAAAA 1995 2000 Master in Commercial and Financial Sciences Business Management at AAAAA – AAAAAAAA AAAAAAAAAAAAAAA Professional experience Feb Apr 2013 Trainee ERP Business Analyst at AAAAAAAAAAAAAAAA – AAAAAAAAAAAAAAAAAAAAA’ functional benchmark vs AAAAAAAAAA offer and redaction of a White Paper on the main trends and evolution of the ERP’s world Feb Aug 2008 AAA MMSD Consultant for AAAAAAAAAAAAAAAAAAAAAAAA now AAAAAAAA Consulting 1 Project AMP AAAAAAA AAA IS Me diaIS Retail \\uf0b7 Elaboration of a specificat ion report on the stock financial discrepancy « unsold book » 2 Project MLP AAAAAA AAA IS MediaIS Retail Process Big Bang Customizing SD follow up of developments AAA SD Unit Testing documentation and key user coaching AAAA’s clearing and control of flows between AAA and AAAAAA Nov 2003 Feb 2008 Supply Chain Analyst Operations Supervisor for AAAAAAA 1 Customer AAAAAAAAAAAAAAAAAAAAAAAAAAAA \\uf0b7 Organisation of the dept process service improvement and AAA of a team of 10 pers  Customer orders processing and transport administration inventory accuracy  Mont AAAAAAAAAA reporting invoicing and establishment of Key Perfor mance Indicators 2 Customer AAAAAAAAAAAAAAAAAAAAA \\uf0b7 Consignment stock management and coordination of the 3rd party logistics on site \\uf0b7 Follow up analysis and improvement of AAAAAAAA and exotic supplier s’ performances Mar Jul 2003 Trainee Application support project AAA R3 Supply Chain at AAAAAAAAAA FR BE Analysis of the need on the field and study of the international rules regarding “dangerous goods flow management on production sites » \\uf0b7 Development and documentation of a statistical report and update of modules AAA R3 MM EHS to the legislation and specifications of AAAAAAAAAAA \\uf0b7 Update of the print outs and revision of the concerned procedures processes Nov2001 Mar2002 Treasurer – accountant at department finance of AAAAAAAAAAAAAAAAAA \\uf0b7 Daily management of the treasury and accounting of the daily trading operations \\uf0b7 Debit and credit controller for the department international trading \\uf0b7 Cost Accounting Analysis and payment of global company expenditures overheads Dec2000 Nov 2001 Sales Analyst and Administration Assistant sales assistant department Retail Company AAAAA Company Operated AAAAAAAAAAAA \\uf0b7 Collection analysis invoicing reporting and follow up of sales revenues in AAAAAAAAAA AAAAAAAAAAAAAAAA and input of regional taxes « highway » \\uf0b7 Management of various AAAAAAAAAAAAAAA s with AAAAAAA fuel AAA and AAAAA via AAAAA '"
      ]
     },
     "execution_count": 46,
     "metadata": {},
     "output_type": "execute_result"
    }
   ],
   "source": [
    "cvs.loc[22, \"resume_text\"]"
   ]
  },
  {
   "cell_type": "markdown",
   "metadata": {},
   "source": [
    "# Submission"
   ]
  },
  {
   "cell_type": "code",
   "execution_count": 42,
   "metadata": {},
   "outputs": [
    {
     "name": "stdout",
     "output_type": "stream",
     "text": [
      "<class 'pandas.core.frame.DataFrame'>\n",
      "RangeIndex: 32 entries, 0 to 31\n",
      "Data columns (total 2 columns):\n",
      " #   Column  Non-Null Count  Dtype \n",
      "---  ------  --------------  ----- \n",
      " 0   id      32 non-null     object\n",
      " 1   rank    32 non-null     int64 \n",
      "dtypes: int64(1), object(1)\n",
      "memory usage: 640.0+ bytes\n"
     ]
    }
   ],
   "source": [
    "submissions = pd.read_csv(\"data/sample_submission.csv\")\n",
    "submissions.info()"
   ]
  },
  {
   "cell_type": "code",
   "execution_count": 43,
   "metadata": {},
   "outputs": [
    {
     "data": {
      "text/html": [
       "<div>\n",
       "<style scoped>\n",
       "    .dataframe tbody tr th:only-of-type {\n",
       "        vertical-align: middle;\n",
       "    }\n",
       "\n",
       "    .dataframe tbody tr th {\n",
       "        vertical-align: top;\n",
       "    }\n",
       "\n",
       "    .dataframe thead th {\n",
       "        text-align: right;\n",
       "    }\n",
       "</style>\n",
       "<table border=\"1\" class=\"dataframe\">\n",
       "  <thead>\n",
       "    <tr style=\"text-align: right;\">\n",
       "      <th></th>\n",
       "      <th>id</th>\n",
       "      <th>rank</th>\n",
       "    </tr>\n",
       "  </thead>\n",
       "  <tbody>\n",
       "    <tr>\n",
       "      <th>0</th>\n",
       "      <td>socrates</td>\n",
       "      <td>1</td>\n",
       "    </tr>\n",
       "    <tr>\n",
       "      <th>1</th>\n",
       "      <td>pythagoras</td>\n",
       "      <td>9</td>\n",
       "    </tr>\n",
       "    <tr>\n",
       "      <th>2</th>\n",
       "      <td>heraclitus</td>\n",
       "      <td>32</td>\n",
       "    </tr>\n",
       "    <tr>\n",
       "      <th>3</th>\n",
       "      <td>homer</td>\n",
       "      <td>10</td>\n",
       "    </tr>\n",
       "    <tr>\n",
       "      <th>4</th>\n",
       "      <td>parmenides</td>\n",
       "      <td>13</td>\n",
       "    </tr>\n",
       "  </tbody>\n",
       "</table>\n",
       "</div>"
      ],
      "text/plain": [
       "           id  rank\n",
       "0    socrates     1\n",
       "1  pythagoras     9\n",
       "2  heraclitus    32\n",
       "3       homer    10\n",
       "4  parmenides    13"
      ]
     },
     "execution_count": 43,
     "metadata": {},
     "output_type": "execute_result"
    }
   ],
   "source": [
    "submissions.head()"
   ]
  },
  {
   "cell_type": "code",
   "execution_count": null,
   "metadata": {},
   "outputs": [],
   "source": []
  }
 ],
 "metadata": {
  "kernelspec": {
   "display_name": "Python 3.9.13 ('job_desc')",
   "language": "python",
   "name": "python3"
  },
  "language_info": {
   "codemirror_mode": {
    "name": "ipython",
    "version": 3
   },
   "file_extension": ".py",
   "mimetype": "text/x-python",
   "name": "python",
   "nbconvert_exporter": "python",
   "pygments_lexer": "ipython3",
   "version": "3.9.13"
  },
  "orig_nbformat": 4,
  "vscode": {
   "interpreter": {
    "hash": "7fe6c830fc9e1307e851b4737afa8b20f38f83a101c3b36e1b261b19ff46c963"
   }
  }
 },
 "nbformat": 4,
 "nbformat_minor": 2
}
